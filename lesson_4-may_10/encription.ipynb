{
 "cells": [
  {
   "attachments": {},
   "cell_type": "markdown",
   "metadata": {},
   "source": [
    "Для початку запустіть перші блоки та задайте повідомлення та ключ\n",
    "Внизу файлу запустіть блок з функціями\n",
    "Потім оберіть функцію шифрування(encrypt)\n",
    "Для дешифрування запустіть перший блок для того щоб задати тепер зашифроване повідомлення та введіть ключ яким шифрували, потім запустіть функцію дешифрування (decrypt) "
   ]
  },
  {
   "cell_type": "code",
   "execution_count": 5,
   "metadata": {},
   "outputs": [],
   "source": [
    "message = str(input())"
   ]
  },
  {
   "cell_type": "code",
   "execution_count": null,
   "metadata": {},
   "outputs": [],
   "source": []
  },
  {
   "cell_type": "code",
   "execution_count": 3,
   "metadata": {},
   "outputs": [
    {
     "name": "stdout",
     "output_type": "stream",
     "text": [
      "10\n"
     ]
    }
   ],
   "source": [
    "shift = int(input()) % 26\n",
    "print (shift)\n",
    "#щоб не заюути ключ"
   ]
  },
  {
   "cell_type": "code",
   "execution_count": 10,
   "metadata": {},
   "outputs": [
    {
     "name": "stdout",
     "output_type": "stream",
     "text": [
      "Yw4|}5\n"
     ]
    }
   ],
   "source": [
    "encrypted_message = encrypt(message, shift)\n",
    "\n",
    "print(encrypted_message)\n"
   ]
  },
  {
   "cell_type": "code",
   "execution_count": 11,
   "metadata": {},
   "outputs": [
    {
     "name": "stdout",
     "output_type": "stream",
     "text": [
      "Encrypt this!\n"
     ]
    }
   ],
   "source": [
    "decrypted_message = encrypt(message, -shift)\n",
    "\n",
    "print(decrypted_message)"
   ]
  },
  {
   "attachments": {},
   "cell_type": "markdown",
   "metadata": {},
   "source": [
    "Більш проста версія де симфоли шифруються не тільки по своїм типам (букви перейдуть у букви, ф символи у символи)\n",
    "'a' -> 'b'\n",
    "'z' -> '{'\n",
    "Перевага: всі символи, які можна надати пайтону, будуть зашифровані і розшифровані у правильне значення, але (дивитись недолік)\n",
    "Недолік: у Unicode багато символів які не відображаються через що можуть бути пусті клітини які не буде видно людині, але вони будуть дешифровуватись якщо їх надати"
   ]
  },
  {
   "cell_type": "code",
   "execution_count": 12,
   "metadata": {},
   "outputs": [],
   "source": [
    "def cesar_ (message: str, shift: int) -> str:\n",
    "    message_enc = ''\n",
    "    for i in message:\n",
    "        message_enc = message_enc + chr(ord(i) + shift)\n",
    "    return message_enc\n",
    "\n",
    "\n",
    "def decrypt (message: str, shift: int) -> str:\n",
    "    return cesar_(message, -shift)\n",
    "\n",
    "def encrypt (message: str, shift: int) -> str:\n",
    "    return cesar_(message, shift)"
   ]
  },
  {
   "cell_type": "code",
   "execution_count": null,
   "metadata": {},
   "outputs": [],
   "source": []
  },
  {
   "attachments": {},
   "cell_type": "markdown",
   "metadata": {},
   "source": [
    "Версія коду де букви після здвигу переходять лише у букви, складніша у умовах IF\n",
    "Недолік: якщо символ перейде у букву, то при дешифрації буква перейде у букву"
   ]
  },
  {
   "cell_type": "code",
   "execution_count": 15,
   "metadata": {},
   "outputs": [],
   "source": [
    "def encrypt (message: str, shift: int) -> str:\n",
    "    message_enc = ''\n",
    "    for i in message:\n",
    "        x = ord(i) + shift\n",
    "        if i.islower() and x > 122:\n",
    "            x -= 26\n",
    "        elif i.isupper() and x > 90:\n",
    "            x -= 26\n",
    "        message_enc = message_enc + chr(x)\n",
    "    print(message_enc)\n",
    "def decrypt (message: str, shift: int) -> str:\n",
    "    message_dec = ''\n",
    "    for i in message:\n",
    "        x = ord(i) - shift\n",
    "        if i.islower() and x < 97:\n",
    "            x += 26\n",
    "        elif i.isupper() and x < 65:\n",
    "            x += 26\n",
    "        message_dec = message_dec + chr(x)\n",
    "    print(message_dec)"
   ]
  }
 ],
 "metadata": {
  "kernelspec": {
   "display_name": "Python 3",
   "language": "python",
   "name": "python3"
  },
  "language_info": {
   "codemirror_mode": {
    "name": "ipython",
    "version": 3
   },
   "file_extension": ".py",
   "mimetype": "text/x-python",
   "name": "python",
   "nbconvert_exporter": "python",
   "pygments_lexer": "ipython3",
   "version": "3.10.6"
  },
  "orig_nbformat": 4
 },
 "nbformat": 4,
 "nbformat_minor": 2
}
